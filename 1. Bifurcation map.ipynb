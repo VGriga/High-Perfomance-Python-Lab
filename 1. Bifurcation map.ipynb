{
 "cells": [
  {
   "cell_type": "code",
   "execution_count": 1,
   "id": "bd76765e",
   "metadata": {},
   "outputs": [],
   "source": [
    "import numpy as np\n",
    "import matplotlib.pyplot as plt\n",
    "import seaborn as sns"
   ]
  },
  {
   "cell_type": "code",
   "execution_count": 2,
   "id": "31651788",
   "metadata": {},
   "outputs": [],
   "source": [
    "n = 300\n",
    "num_points = 1000\n",
    "m = 200\n",
    "\n",
    "r_space = np.linspace(0, 4, num_points)\n",
    "\n",
    "x = np.zeros(shape = (num_points, n))\n",
    "x[:,0] = np.array([np.random.rand()] * num_points)\n",
    "\n",
    "for i in range(num_points):\n",
    "    for j in range(1,n):\n",
    "        x[i,j] = r_space[i] * x[i,j-1] * (1 - x[i,j-1])\n",
    "        "
   ]
  },
  {
   "cell_type": "code",
   "execution_count": null,
   "id": "71eafd15",
   "metadata": {},
   "outputs": [],
   "source": [
    "for i,evol in enumerate(x):\n",
    "    sns.scatterplot(x=[r_space[i]] * m, y=evol[-m:], color='blue', s=3)\n",
    "plt.title(f'Bifurcation map, wih r_num_points:{num_points}, n:{n}, m:{m}')\n",
    "plt.show();"
   ]
  },
  {
   "cell_type": "code",
   "execution_count": null,
   "id": "05c0d81e",
   "metadata": {},
   "outputs": [],
   "source": []
  }
 ],
 "metadata": {
  "kernelspec": {
   "display_name": "Python 3 (ipykernel)",
   "language": "python",
   "name": "python3"
  },
  "language_info": {
   "codemirror_mode": {
    "name": "ipython",
    "version": 3
   },
   "file_extension": ".py",
   "mimetype": "text/x-python",
   "name": "python",
   "nbconvert_exporter": "python",
   "pygments_lexer": "ipython3",
   "version": "3.10.9"
  }
 },
 "nbformat": 4,
 "nbformat_minor": 5
}
